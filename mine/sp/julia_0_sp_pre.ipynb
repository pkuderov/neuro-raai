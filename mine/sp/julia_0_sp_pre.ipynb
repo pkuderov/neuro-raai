{
 "cells": [
  {
   "cell_type": "markdown",
   "id": "b66feccd-27b9-4034-9007-bcef8fc203f6",
   "metadata": {},
   "source": [
    "# Simplified Spatial Pooler\n",
    "\n",
    "Here I am trying to get used to Julia by implementing Spatial Pooler w/o any fancy features. Just plain compute with learning."
   ]
  },
  {
   "cell_type": "code",
   "execution_count": 5,
   "id": "16e6def5-b43c-452d-88cb-07daa4cec61e",
   "metadata": {},
   "outputs": [],
   "source": [
    "struct Sds\n",
    "    shape::Tuple{Int, Vararg{Int}}\n",
    "    size::Int\n",
    "    sparsity::Float64\n",
    "    active_size::Int\n",
    "    \n",
    "    Sds(size::Int, sparsity::Float64) = new(\n",
    "        (size,), size, sparsity, \n",
    "        round(Int, size * sparsity)\n",
    "    )\n",
    "    \n",
    "    Sds(size::Int, active_size::Int) = new(\n",
    "        (size,), size, active_size / size, active_size\n",
    "    )\n",
    "end"
   ]
  },
  {
   "cell_type": "code",
   "execution_count": 6,
   "id": "76e818d1-95c1-4a00-8726-ac2c65322677",
   "metadata": {},
   "outputs": [],
   "source": [
    "@assert Sds(100, .3).active_size == 30\n",
    "@assert Sds(80, 10).sparsity == 0.125"
   ]
  },
  {
   "cell_type": "code",
   "execution_count": 7,
   "id": "3d548989-fef9-4f4b-aba7-17a6fa46a3e0",
   "metadata": {},
   "outputs": [
    {
     "data": {
      "text/plain": [
       "Sds((20,), 20, 0.2, 4)"
      ]
     },
     "execution_count": 7,
     "metadata": {},
     "output_type": "execute_result"
    }
   ],
   "source": [
    "sds = Sds(20, 4)"
   ]
  },
  {
   "cell_type": "code",
   "execution_count": 8,
   "id": "0a2e93e2-1bd0-43f8-9ea1-cac6fd00dd4a",
   "metadata": {},
   "outputs": [
    {
     "data": {
      "text/plain": [
       "MersenneTwister(42)"
      ]
     },
     "execution_count": 8,
     "metadata": {},
     "output_type": "execute_result"
    }
   ],
   "source": [
    "using Random\n",
    "\n",
    "seed = 42\n",
    "rng = MersenneTwister(seed)"
   ]
  },
  {
   "cell_type": "code",
   "execution_count": 9,
   "id": "8d720361-1845-428a-94d7-91535604c570",
   "metadata": {},
   "outputs": [
    {
     "name": "stderr",
     "output_type": "stream",
     "text": [
      "\u001b[32m\u001b[1m   Resolving\u001b[22m\u001b[39m package versions...\n",
      "\u001b[32m\u001b[1m  No Changes\u001b[22m\u001b[39m to `~/.julia/environments/v1.8/Project.toml`\n",
      "\u001b[32m\u001b[1m  No Changes\u001b[22m\u001b[39m to `~/.julia/environments/v1.8/Manifest.toml`\n",
      "\u001b[32m\u001b[1m   Resolving\u001b[22m\u001b[39m package versions...\n",
      "\u001b[32m\u001b[1m  No Changes\u001b[22m\u001b[39m to `~/.julia/environments/v1.8/Project.toml`\n",
      "\u001b[32m\u001b[1m  No Changes\u001b[22m\u001b[39m to `~/.julia/environments/v1.8/Manifest.toml`\n",
      "\u001b[32m\u001b[1m   Resolving\u001b[22m\u001b[39m package versions...\n",
      "\u001b[32m\u001b[1m  No Changes\u001b[22m\u001b[39m to `~/.julia/environments/v1.8/Project.toml`\n",
      "\u001b[32m\u001b[1m  No Changes\u001b[22m\u001b[39m to `~/.julia/environments/v1.8/Manifest.toml`\n"
     ]
    }
   ],
   "source": [
    "using Pkg\n",
    "Pkg.add(\"StatsBase\")\n",
    "Pkg.add(\"Distributions\")\n",
    "Pkg.add(\"BenchmarkTools\")"
   ]
  },
  {
   "cell_type": "code",
   "execution_count": 10,
   "id": "e50b1322-f379-44a6-be4a-252f419e37d3",
   "metadata": {},
   "outputs": [],
   "source": [
    "using StatsBase\n",
    "using Distributions\n",
    "using BenchmarkTools"
   ]
  },
  {
   "cell_type": "code",
   "execution_count": 11,
   "id": "36d73105-b2e1-4d48-9807-3772b5b7f23b",
   "metadata": {},
   "outputs": [
    {
     "data": {
      "text/plain": [
       "10-element Vector{Int64}:\n",
       "  6\n",
       " 14\n",
       " 47\n",
       " 59\n",
       " 60\n",
       " 61\n",
       " 71\n",
       " 84\n",
       " 85\n",
       " 94"
      ]
     },
     "execution_count": 11,
     "metadata": {},
     "output_type": "execute_result"
    }
   ],
   "source": [
    "seed = 42\n",
    "rng = MersenneTwister(seed)\n",
    "\n",
    "sample(rng, 1:100, 10, replace=false, ordered=true)"
   ]
  },
  {
   "cell_type": "code",
   "execution_count": 12,
   "id": "2bca8a51-1bde-4547-a527-56d9a914e8f4",
   "metadata": {},
   "outputs": [
    {
     "data": {
      "text/plain": [
       "BenchmarkTools.Trial: 10000 samples with 326 evaluations.\n",
       " Range \u001b[90m(\u001b[39m\u001b[36m\u001b[1mmin\u001b[22m\u001b[39m … \u001b[35mmax\u001b[39m\u001b[90m):  \u001b[39m\u001b[36m\u001b[1m278.500 ns\u001b[22m\u001b[39m … \u001b[35m 1.397 μs\u001b[39m  \u001b[90m┊\u001b[39m GC \u001b[90m(\u001b[39mmin … max\u001b[90m): \u001b[39m0.00% … 0.00%\n",
       " Time  \u001b[90m(\u001b[39m\u001b[34m\u001b[1mmedian\u001b[22m\u001b[39m\u001b[90m):     \u001b[39m\u001b[34m\u001b[1m283.230 ns              \u001b[22m\u001b[39m\u001b[90m┊\u001b[39m GC \u001b[90m(\u001b[39mmedian\u001b[90m):    \u001b[39m0.00%\n",
       " Time  \u001b[90m(\u001b[39m\u001b[32m\u001b[1mmean\u001b[22m\u001b[39m ± \u001b[32mσ\u001b[39m\u001b[90m):   \u001b[39m\u001b[32m\u001b[1m285.923 ns\u001b[22m\u001b[39m ± \u001b[32m35.848 ns\u001b[39m  \u001b[90m┊\u001b[39m GC \u001b[90m(\u001b[39mmean ± σ\u001b[90m):  \u001b[39m0.37% ± 2.48%\n",
       "\n",
       "  \u001b[39m \u001b[39m \u001b[39m \u001b[39m \u001b[39m \u001b[39m \u001b[39m▁\u001b[39m█\u001b[39m▇\u001b[39m▇\u001b[39m▇\u001b[34m▂\u001b[39m\u001b[39m▂\u001b[39m \u001b[39m \u001b[39m \u001b[39m \u001b[32m \u001b[39m\u001b[39m \u001b[39m \u001b[39m \u001b[39m \u001b[39m \u001b[39m \u001b[39m \u001b[39m \u001b[39m \u001b[39m \u001b[39m \u001b[39m \u001b[39m \u001b[39m \u001b[39m \u001b[39m \u001b[39m \u001b[39m \u001b[39m \u001b[39m \u001b[39m \u001b[39m \u001b[39m \u001b[39m \u001b[39m \u001b[39m \u001b[39m \u001b[39m \u001b[39m \u001b[39m \u001b[39m \u001b[39m \u001b[39m \u001b[39m \u001b[39m \u001b[39m \u001b[39m \u001b[39m \u001b[39m \u001b[39m \u001b[39m \u001b[39m \u001b[39m \u001b[39m \n",
       "  \u001b[39m▁\u001b[39m▁\u001b[39m▁\u001b[39m▂\u001b[39m▃\u001b[39m▇\u001b[39m█\u001b[39m█\u001b[39m█\u001b[39m█\u001b[39m█\u001b[34m█\u001b[39m\u001b[39m█\u001b[39m█\u001b[39m▇\u001b[39m▆\u001b[39m▄\u001b[32m▄\u001b[39m\u001b[39m▂\u001b[39m▂\u001b[39m▂\u001b[39m▂\u001b[39m▂\u001b[39m▂\u001b[39m▂\u001b[39m▃\u001b[39m▃\u001b[39m▃\u001b[39m▂\u001b[39m▂\u001b[39m▂\u001b[39m▂\u001b[39m▂\u001b[39m▂\u001b[39m▂\u001b[39m▂\u001b[39m▁\u001b[39m▁\u001b[39m▁\u001b[39m▁\u001b[39m▁\u001b[39m▁\u001b[39m▁\u001b[39m▁\u001b[39m▁\u001b[39m▁\u001b[39m▁\u001b[39m▁\u001b[39m▁\u001b[39m▁\u001b[39m▁\u001b[39m▁\u001b[39m▁\u001b[39m▁\u001b[39m▁\u001b[39m▁\u001b[39m▁\u001b[39m▁\u001b[39m▁\u001b[39m▁\u001b[39m \u001b[39m▂\n",
       "  278 ns\u001b[90m          Histogram: frequency by time\u001b[39m          305 ns \u001b[0m\u001b[1m<\u001b[22m\n",
       "\n",
       " Memory estimate\u001b[90m: \u001b[39m\u001b[33m144 bytes\u001b[39m, allocs estimate\u001b[90m: \u001b[39m\u001b[33m1\u001b[39m."
      ]
     },
     "execution_count": 12,
     "metadata": {},
     "output_type": "execute_result"
    }
   ],
   "source": [
    "@benchmark sample(rng, 1:100, 10, replace=false, ordered=true)"
   ]
  },
  {
   "cell_type": "code",
   "execution_count": 13,
   "id": "6e98486c-7124-4d45-9fbf-fc75ad46f044",
   "metadata": {},
   "outputs": [
    {
     "data": {
      "text/plain": [
       "([5, 8, 10, 16], Bool[0, 1, 0, 0, 0, 0, 1, 0, 0, 0, 0, 1, 0, 0, 1, 0, 0, 0, 0, 0])"
      ]
     },
     "execution_count": 13,
     "metadata": {},
     "output_type": "execute_result"
    }
   ],
   "source": [
    "function rand_sparse(rng::AbstractRNG, sds::Sds)::Vector{Int}\n",
    "    return sample(rng, 1:sds.size, sds.active_size, replace=false, ordered=true)\n",
    "end\n",
    "\n",
    "function sparse_to_dense(sparse_sdr::Vector{Int}, sds::Sds)::Vector{Bool}\n",
    "    a = zeros(Bool, sds.size)\n",
    "    a[sparse_sdr] .= 1\n",
    "    return a\n",
    "end\n",
    "\n",
    "rand_sparse(rng, sds), sparse_to_dense(rand_sparse(rng, sds), sds)"
   ]
  },
  {
   "cell_type": "code",
   "execution_count": 14,
   "id": "cf3b9996-7ca3-47d8-8753-4eecef7f2a03",
   "metadata": {},
   "outputs": [
    {
     "data": {
      "text/plain": [
       "20×30 BitMatrix:\n",
       " 0  1  1  1  0  0  1  0  0  1  1  1  1  …  1  0  0  1  1  1  0  0  1  0  0  0\n",
       " 0  0  1  0  0  0  1  1  0  0  0  1  0     1  0  0  1  1  0  1  0  0  0  0  1\n",
       " 1  1  0  0  1  0  0  1  1  1  1  0  1     0  1  1  1  0  1  1  0  1  1  1  1\n",
       " 1  0  1  0  0  1  1  1  1  1  0  1  0     1  0  0  0  1  0  0  0  0  1  0  0\n",
       " 0  0  0  1  0  1  0  0  0  1  1  1  0     1  0  0  0  1  1  1  0  0  1  1  0\n",
       " 1  1  1  0  1  1  0  0  0  0  1  1  1  …  0  0  1  0  1  1  0  1  0  0  0  1\n",
       " 1  0  0  0  1  0  1  0  0  0  1  0  0     1  1  1  1  0  0  0  1  1  0  1  1\n",
       " 1  0  1  0  1  0  0  1  1  0  0  0  1     0  0  1  0  0  0  0  0  0  1  1  0\n",
       " 1  0  1  1  0  0  0  0  0  0  0  0  0     1  0  1  1  1  0  0  1  1  1  0  0\n",
       " 1  0  1  0  0  0  1  0  0  1  0  0  0     1  1  1  1  1  0  0  1  1  0  0  1\n",
       " 0  0  1  0  1  0  1  1  1  0  0  1  0  …  0  1  0  1  1  0  1  0  0  0  1  1\n",
       " 0  0  0  1  1  0  0  0  0  1  0  1  0     1  0  0  0  0  1  0  1  0  0  0  0\n",
       " 0  1  1  1  1  1  1  0  1  0  0  0  1     1  0  0  1  1  0  1  1  1  0  0  0\n",
       " 1  1  1  1  1  1  1  0  0  0  1  1  0     0  0  0  1  0  1  1  0  1  1  0  0\n",
       " 1  1  0  0  0  0  1  1  1  1  1  1  1     1  0  1  0  0  0  0  1  0  0  1  0\n",
       " 1  0  1  0  0  0  1  1  0  1  0  1  1  …  1  0  1  0  1  1  0  0  1  1  1  0\n",
       " 0  1  0  0  1  1  0  0  1  0  1  0  0     0  0  1  1  0  0  0  0  1  1  1  1\n",
       " 0  0  1  1  1  0  1  1  1  1  0  1  0     0  0  0  0  0  0  0  0  1  1  1  0\n",
       " 1  0  1  1  0  0  0  0  0  0  1  0  0     1  1  1  1  1  0  1  0  0  1  1  1\n",
       " 1  1  0  1  0  1  1  1  1  0  1  0  0     1  1  1  0  0  0  0  1  0  1  1  0"
      ]
     },
     "execution_count": 14,
     "metadata": {},
     "output_type": "execute_result"
    }
   ],
   "source": [
    "sds_in, sds_out = Sds(20, 5), Sds(30, 4)\n",
    "perm_threshold = 0.5\n",
    "\n",
    "weights = rand(sds_in.size, sds_out.size)\n",
    "synapses = weights .>= perm_threshold\n",
    "\n",
    "synapses"
   ]
  },
  {
   "cell_type": "code",
   "execution_count": 15,
   "id": "2ab1bba5-cb6d-4136-993b-c36d974bc2da",
   "metadata": {},
   "outputs": [
    {
     "data": {
      "text/plain": [
       "5×30 BitMatrix:\n",
       " 1  1  0  0  1  0  0  1  1  1  1  0  1  …  0  1  1  1  0  1  1  0  1  1  1  1\n",
       " 0  0  0  1  0  1  0  0  0  1  1  1  0     1  0  0  0  1  1  1  0  0  1  1  0\n",
       " 1  0  0  0  1  0  1  0  0  0  1  0  0     1  1  1  1  0  0  0  1  1  0  1  1\n",
       " 1  1  1  1  1  1  1  0  0  0  1  1  0     0  0  0  1  0  1  1  0  1  1  0  0\n",
       " 1  1  0  0  0  0  1  1  1  1  1  1  1     1  0  1  0  0  0  0  1  0  0  1  0"
      ]
     },
     "execution_count": 15,
     "metadata": {},
     "output_type": "execute_result"
    }
   ],
   "source": [
    "input_sdr = rand_sparse(rng, sds_in)\n",
    "\n",
    "synapses[input_sdr, :]"
   ]
  },
  {
   "cell_type": "code",
   "execution_count": 16,
   "id": "5939ac25-3caa-434e-afb2-81b7c5cba523",
   "metadata": {},
   "outputs": [
    {
     "data": {
      "text/plain": [
       "30-element Vector{Int64}:\n",
       " 4\n",
       " 3\n",
       " 1\n",
       " 2\n",
       " 3\n",
       " 2\n",
       " 3\n",
       " 2\n",
       " 2\n",
       " 3\n",
       " 5\n",
       " 3\n",
       " 2\n",
       " ⋮\n",
       " 3\n",
       " 2\n",
       " 3\n",
       " 3\n",
       " 1\n",
       " 3\n",
       " 3\n",
       " 2\n",
       " 3\n",
       " 3\n",
       " 4\n",
       " 2"
      ]
     },
     "execution_count": 16,
     "metadata": {},
     "output_type": "execute_result"
    }
   ],
   "source": [
    "overlaps = dropdims(sum(synapses[input_sdr, :], dims=1), dims=1)"
   ]
  },
  {
   "cell_type": "code",
   "execution_count": 17,
   "id": "9868b84f-5822-47b2-a8d3-1caecadd0bae",
   "metadata": {},
   "outputs": [
    {
     "data": {
      "text/plain": [
       "4-element view(::Vector{Int64}, 1:4) with eltype Int64:\n",
       " 11\n",
       "  1\n",
       " 14\n",
       " 29"
      ]
     },
     "execution_count": 17,
     "metadata": {},
     "output_type": "execute_result"
    }
   ],
   "source": [
    "winners = partialsortperm(overlaps, 1:sds_out.active_size, rev=true)"
   ]
  },
  {
   "cell_type": "code",
   "execution_count": 18,
   "id": "167f0ee8-d0da-4cfd-9d6b-7ccf36baf094",
   "metadata": {},
   "outputs": [
    {
     "data": {
      "text/plain": [
       "4-element Vector{Int64}:\n",
       " 5\n",
       " 4\n",
       " 4\n",
       " 4"
      ]
     },
     "execution_count": 18,
     "metadata": {},
     "output_type": "execute_result"
    }
   ],
   "source": [
    "overlaps[winners]"
   ]
  },
  {
   "cell_type": "code",
   "execution_count": 25,
   "id": "acab6f00-310d-4b81-afa6-f3b6ab54f624",
   "metadata": {},
   "outputs": [
    {
     "data": {
      "text/plain": [
       "update_permanence (generic function with 1 method)"
      ]
     },
     "execution_count": 25,
     "metadata": {},
     "output_type": "execute_result"
    }
   ],
   "source": [
    "function compute_overlaps(input_sdr::Vector{Int}, synapses::BitMatrix, sds_out)::Vector{Int}\n",
    "    overlaps = dropdims(sum(synapses[input_sdr, :], dims=1), dims=1)\n",
    "    return overlaps\n",
    "end\n",
    "\n",
    "function compute_winners(overlaps::Vector{Int}, sds_out)::Vector{Int}\n",
    "    winners = partialsortperm(overlaps, 1:sds_out.active_size, rev=true)\n",
    "    return winners\n",
    "end\n",
    "\n",
    "function update_permanence(weights, winners, (perm_inc, perm_dec))\n",
    "    weights[:, winners] .-= perm_dec\n",
    "    weights[input_sdr, winners] .+= perm_inc\n",
    "\n",
    "    clamp!(weights[:, winners], 0., 1.)\n",
    "end"
   ]
  },
  {
   "cell_type": "code",
   "execution_count": 26,
   "id": "06c2588b-f4d8-4abd-bb14-8b4325d802e9",
   "metadata": {},
   "outputs": [
    {
     "data": {
      "text/plain": [
       "BenchmarkTools.Trial: 10000 samples with 10 evaluations.\n",
       " Range \u001b[90m(\u001b[39m\u001b[36m\u001b[1mmin\u001b[22m\u001b[39m … \u001b[35mmax\u001b[39m\u001b[90m):  \u001b[39m\u001b[36m\u001b[1m1.083 μs\u001b[22m\u001b[39m … \u001b[35m168.312 μs\u001b[39m  \u001b[90m┊\u001b[39m GC \u001b[90m(\u001b[39mmin … max\u001b[90m): \u001b[39m0.00% … 98.86%\n",
       " Time  \u001b[90m(\u001b[39m\u001b[34m\u001b[1mmedian\u001b[22m\u001b[39m\u001b[90m):     \u001b[39m\u001b[34m\u001b[1m1.217 μs               \u001b[22m\u001b[39m\u001b[90m┊\u001b[39m GC \u001b[90m(\u001b[39mmedian\u001b[90m):    \u001b[39m0.00%\n",
       " Time  \u001b[90m(\u001b[39m\u001b[32m\u001b[1mmean\u001b[22m\u001b[39m ± \u001b[32mσ\u001b[39m\u001b[90m):   \u001b[39m\u001b[32m\u001b[1m1.266 μs\u001b[22m\u001b[39m ± \u001b[32m  2.361 μs\u001b[39m  \u001b[90m┊\u001b[39m GC \u001b[90m(\u001b[39mmean ± σ\u001b[90m):  \u001b[39m2.63% ±  1.40%\n",
       "\n",
       "  \u001b[39m \u001b[39m \u001b[39m \u001b[39m \u001b[39m \u001b[39m \u001b[39m \u001b[39m \u001b[39m \u001b[39m▁\u001b[39m▃\u001b[39m▅\u001b[39m▆\u001b[39m█\u001b[39m█\u001b[39m█\u001b[34m▇\u001b[39m\u001b[39m▅\u001b[39m▅\u001b[39m▃\u001b[39m▂\u001b[39m▁\u001b[32m \u001b[39m\u001b[39m \u001b[39m \u001b[39m \u001b[39m \u001b[39m \u001b[39m \u001b[39m \u001b[39m \u001b[39m \u001b[39m \u001b[39m \u001b[39m \u001b[39m \u001b[39m \u001b[39m \u001b[39m \u001b[39m \u001b[39m \u001b[39m \u001b[39m \u001b[39m \u001b[39m \u001b[39m \u001b[39m \u001b[39m \u001b[39m \u001b[39m \u001b[39m \u001b[39m \u001b[39m \u001b[39m \u001b[39m \u001b[39m \u001b[39m \u001b[39m \u001b[39m \u001b[39m \u001b[39m \n",
       "  \u001b[39m▂\u001b[39m▂\u001b[39m▂\u001b[39m▂\u001b[39m▃\u001b[39m▄\u001b[39m▄\u001b[39m▆\u001b[39m▇\u001b[39m█\u001b[39m█\u001b[39m█\u001b[39m█\u001b[39m█\u001b[39m█\u001b[39m█\u001b[34m█\u001b[39m\u001b[39m█\u001b[39m█\u001b[39m█\u001b[39m█\u001b[39m█\u001b[32m█\u001b[39m\u001b[39m█\u001b[39m▇\u001b[39m▆\u001b[39m▅\u001b[39m▅\u001b[39m▄\u001b[39m▄\u001b[39m▄\u001b[39m▃\u001b[39m▃\u001b[39m▃\u001b[39m▃\u001b[39m▃\u001b[39m▂\u001b[39m▂\u001b[39m▂\u001b[39m▂\u001b[39m▂\u001b[39m▂\u001b[39m▂\u001b[39m▂\u001b[39m▂\u001b[39m▂\u001b[39m▂\u001b[39m▂\u001b[39m▂\u001b[39m▁\u001b[39m▂\u001b[39m▂\u001b[39m▂\u001b[39m▂\u001b[39m▂\u001b[39m▂\u001b[39m▂\u001b[39m▂\u001b[39m▂\u001b[39m \u001b[39m▄\n",
       "  1.08 μs\u001b[90m         Histogram: frequency by time\u001b[39m        1.57 μs \u001b[0m\u001b[1m<\u001b[22m\n",
       "\n",
       " Memory estimate\u001b[90m: \u001b[39m\u001b[33m1.03 KiB\u001b[39m, allocs estimate\u001b[90m: \u001b[39m\u001b[33m10\u001b[39m."
      ]
     },
     "execution_count": 26,
     "metadata": {},
     "output_type": "execute_result"
    }
   ],
   "source": [
    "@benchmark compute_winners(compute_overlaps(rand_sparse(rng, sds_in), synapses, sds_out), sds_out)"
   ]
  },
  {
   "cell_type": "code",
   "execution_count": 33,
   "id": "475b5cf8-8b6f-46e2-9f76-7351d2145a5f",
   "metadata": {},
   "outputs": [
    {
     "data": {
      "text/plain": [
       "BenchmarkTools.Trial: 10000 samples with 1 evaluation.\n",
       " Range \u001b[90m(\u001b[39m\u001b[36m\u001b[1mmin\u001b[22m\u001b[39m … \u001b[35mmax\u001b[39m\u001b[90m):  \u001b[39m\u001b[36m\u001b[1m22.791 μs\u001b[22m\u001b[39m … \u001b[35m 2.342 ms\u001b[39m  \u001b[90m┊\u001b[39m GC \u001b[90m(\u001b[39mmin … max\u001b[90m): \u001b[39m0.00% … 98.24%\n",
       " Time  \u001b[90m(\u001b[39m\u001b[34m\u001b[1mmedian\u001b[22m\u001b[39m\u001b[90m):     \u001b[39m\u001b[34m\u001b[1m26.916 μs              \u001b[22m\u001b[39m\u001b[90m┊\u001b[39m GC \u001b[90m(\u001b[39mmedian\u001b[90m):    \u001b[39m0.00%\n",
       " Time  \u001b[90m(\u001b[39m\u001b[32m\u001b[1mmean\u001b[22m\u001b[39m ± \u001b[32mσ\u001b[39m\u001b[90m):   \u001b[39m\u001b[32m\u001b[1m29.836 μs\u001b[22m\u001b[39m ± \u001b[32m79.385 μs\u001b[39m  \u001b[90m┊\u001b[39m GC \u001b[90m(\u001b[39mmean ± σ\u001b[90m):  \u001b[39m9.52% ±  3.53%\n",
       "\n",
       "  \u001b[39m \u001b[39m \u001b[39m \u001b[39m \u001b[39m \u001b[39m \u001b[39m \u001b[39m \u001b[39m \u001b[39m▂\u001b[39m▂\u001b[39m \u001b[39m \u001b[39m \u001b[39m \u001b[39m \u001b[39m▁\u001b[39m▁\u001b[39m▅\u001b[39m▇\u001b[34m▇\u001b[39m\u001b[39m█\u001b[39m▇\u001b[39m▄\u001b[39m▅\u001b[39m▃\u001b[39m▂\u001b[39m \u001b[39m \u001b[39m \u001b[39m \u001b[39m \u001b[39m \u001b[39m \u001b[39m \u001b[32m \u001b[39m\u001b[39m \u001b[39m \u001b[39m \u001b[39m \u001b[39m \u001b[39m \u001b[39m \u001b[39m \u001b[39m \u001b[39m \u001b[39m \u001b[39m \u001b[39m \u001b[39m \u001b[39m \u001b[39m \u001b[39m \u001b[39m \u001b[39m \u001b[39m \u001b[39m \u001b[39m \u001b[39m \u001b[39m \u001b[39m \n",
       "  \u001b[39m▂\u001b[39m▂\u001b[39m▂\u001b[39m▃\u001b[39m▄\u001b[39m▄\u001b[39m▅\u001b[39m▇\u001b[39m█\u001b[39m█\u001b[39m█\u001b[39m▇\u001b[39m█\u001b[39m█\u001b[39m▇\u001b[39m█\u001b[39m█\u001b[39m█\u001b[39m█\u001b[39m█\u001b[34m█\u001b[39m\u001b[39m█\u001b[39m█\u001b[39m█\u001b[39m█\u001b[39m█\u001b[39m█\u001b[39m█\u001b[39m▆\u001b[39m▄\u001b[39m▄\u001b[39m▅\u001b[39m▅\u001b[39m▄\u001b[39m▄\u001b[32m▃\u001b[39m\u001b[39m▄\u001b[39m▃\u001b[39m▃\u001b[39m▃\u001b[39m▃\u001b[39m▂\u001b[39m▃\u001b[39m▂\u001b[39m▂\u001b[39m▂\u001b[39m▂\u001b[39m▂\u001b[39m▂\u001b[39m▂\u001b[39m▂\u001b[39m▂\u001b[39m▂\u001b[39m▁\u001b[39m▂\u001b[39m▂\u001b[39m▁\u001b[39m▁\u001b[39m▂\u001b[39m \u001b[39m▄\n",
       "  22.8 μs\u001b[90m         Histogram: frequency by time\u001b[39m        34.7 μs \u001b[0m\u001b[1m<\u001b[22m\n",
       "\n",
       " Memory estimate\u001b[90m: \u001b[39m\u001b[33m72.75 KiB\u001b[39m, allocs estimate\u001b[90m: \u001b[39m\u001b[33m251\u001b[39m."
      ]
     },
     "execution_count": 33,
     "metadata": {},
     "output_type": "execute_result"
    }
   ],
   "source": [
    "@benchmark begin\n",
    "\n",
    "perm_inc, perm_dec = 0.1, 0.01\n",
    "\n",
    "input_sdr = rand_sparse(rng, sds_in)\n",
    "for _ in 1:10\n",
    "    overlaps = compute_overlaps(input_sdr, $synapses, sds_out)\n",
    "    winners = compute_winners(overlaps, sds_out)\n",
    "    update_permanence($weights, winners, (perm_inc, perm_dec))\n",
    "    $synapses = weights .>= perm_threshold\n",
    "end\n",
    "end"
   ]
  }
 ],
 "metadata": {
  "kernelspec": {
   "display_name": "Julia 1.8.0-rc1",
   "language": "julia",
   "name": "julia-1.8"
  },
  "language_info": {
   "file_extension": ".jl",
   "mimetype": "application/julia",
   "name": "julia",
   "version": "1.8.0"
  }
 },
 "nbformat": 4,
 "nbformat_minor": 5
}
