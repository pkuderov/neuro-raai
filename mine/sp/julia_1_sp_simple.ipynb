{
 "cells": [
  {
   "cell_type": "markdown",
   "id": "b66feccd-27b9-4034-9007-bcef8fc203f6",
   "metadata": {},
   "source": [
    "# Simplified Spatial Pooler\n",
    "\n",
    "Here I am trying to get used to Julia by implementing Spatial Pooler w/o any fancy features. Just plain compute with learning."
   ]
  },
  {
   "cell_type": "markdown",
   "id": "3fb53955-21e4-426c-893a-2181e43419e2",
   "metadata": {},
   "source": [
    "## Install packages"
   ]
  },
  {
   "cell_type": "code",
   "execution_count": null,
   "id": "b74cab82-3690-4f15-9a45-db2530ce574a",
   "metadata": {},
   "outputs": [
    {
     "name": "stderr",
     "output_type": "stream",
     "text": [
      "\u001b[32m\u001b[1m    Updating\u001b[22m\u001b[39m registry at `~/.julia/registries/General.toml`\n",
      "\u001b[32m\u001b[1m   Resolving\u001b[22m\u001b[39m package versions...\n",
      "\u001b[32m\u001b[1m  No Changes\u001b[22m\u001b[39m to `~/.julia/environments/v1.8/Project.toml`\n",
      "\u001b[32m\u001b[1m  No Changes\u001b[22m\u001b[39m to `~/.julia/environments/v1.8/Manifest.toml`\n",
      "\u001b[32m\u001b[1m   Resolving\u001b[22m\u001b[39m package versions...\n",
      "\u001b[32m\u001b[1m  No Changes\u001b[22m\u001b[39m to `~/.julia/environments/v1.8/Project.toml`\n",
      "\u001b[32m\u001b[1m  No Changes\u001b[22m\u001b[39m to `~/.julia/environments/v1.8/Manifest.toml`\n",
      "\u001b[32m\u001b[1m   Resolving\u001b[22m\u001b[39m package versions...\n",
      "\u001b[32m\u001b[1m  No Changes\u001b[22m\u001b[39m to `~/.julia/environments/v1.8/Project.toml`\n",
      "\u001b[32m\u001b[1m  No Changes\u001b[22m\u001b[39m to `~/.julia/environments/v1.8/Manifest.toml`\n"
     ]
    }
   ],
   "source": [
    "using Pkg\n",
    "Pkg.add(\"StatsBase\")\n",
    "Pkg.add(\"Distributions\")\n",
    "Pkg.add(\"BenchmarkTools\")"
   ]
  },
  {
   "cell_type": "markdown",
   "id": "36d662a7-9bb3-4ea4-8a28-12f227ddf2b6",
   "metadata": {},
   "source": [
    "## Common utils"
   ]
  },
  {
   "cell_type": "code",
   "execution_count": 3,
   "id": "16e6def5-b43c-452d-88cb-07daa4cec61e",
   "metadata": {},
   "outputs": [],
   "source": [
    "using Random\n",
    "using StatsBase\n",
    "using Distributions\n",
    "using BenchmarkTools\n",
    "\n",
    "\n",
    "\"Sparse Distributed Space parameters\"\n",
    "struct Sds\n",
    "    shape::Tuple{Int, Vararg{Int}}\n",
    "    size::Int\n",
    "    sparsity::Float64\n",
    "    active_size::Int\n",
    "    \n",
    "    Sds(size::Int, sparsity::Float64) = new(\n",
    "        (size,), size, sparsity, \n",
    "        round(Int, size * sparsity)\n",
    "    )\n",
    "    \n",
    "    Sds(size::Int, active_size::Int) = new(\n",
    "        (size,), size, active_size / size, active_size\n",
    "    )\n",
    "end\n",
    "\n",
    "@assert Sds(100, .3).active_size == 30\n",
    "@assert Sds(80, 10).sparsity == 0.125\n",
    "\n",
    "\n",
    "rand_sparse(rng::AbstractRNG, sds::Sds)::Vector{Int} = sample(rng, 1:sds.size, sds.active_size, replace=false, ordered=true)\n",
    "rand_sparse(sds::Sds)::Vector{Int} = sample(1:sds.size, sds.active_size, replace=false, ordered=true)\n",
    "\n",
    "function sparse_to_dense(sparse_sdr::Vector{Int}, sds::Sds)::Vector{Bool}\n",
    "    a = zeros(Bool, sds.size)\n",
    "    a[sparse_sdr] .= 1\n",
    "    return a\n",
    "end\n",
    "\n",
    "@assert length(rand_sparse(Sds(100, .05))) == sum(sparse_to_dense(rand_sparse(Sds(100, .05)), Sds(100, .05)))"
   ]
  },
  {
   "cell_type": "code",
   "execution_count": 17,
   "id": "b1cb6b6e-3345-4779-92ff-5827b187ebe8",
   "metadata": {},
   "outputs": [
    {
     "data": {
      "text/plain": [
       "4-element Vector{Int64}:\n",
       "  3\n",
       "  5\n",
       " 10\n",
       " 14"
      ]
     },
     "execution_count": 17,
     "metadata": {},
     "output_type": "execute_result"
    }
   ],
   "source": [
    "mutable struct SpatialPooler\n",
    "    sds_in::Sds\n",
    "    sds_out::Sds\n",
    "    \n",
    "    rng::AbstractRNG \n",
    "    perm_threshold::Float64\n",
    "    perm_increment::Float64\n",
    "    perm_decrement::Float64\n",
    "    \n",
    "    weights::Matrix{Float64}\n",
    "    synapses::BitMatrix\n",
    "    \n",
    "    potentials::Vector{Float64}\n",
    "    winners::Vector{Int}\n",
    "end\n",
    "\n",
    "function SpatialPooler(\n",
    "        ; sds_in::Sds, sds_out::Sds, seed::Int, \n",
    "        perm_threshold::Float64, perm_increment::Float64, perm_decrement::Float64\n",
    "    )\n",
    "    rng = MersenneTwister(seed)\n",
    "    \n",
    "    weights = rand(rng, sds_in.size, sds_out.size)\n",
    "    synapses = weights .>= perm_threshold\n",
    "    \n",
    "    overlaps = zeros(sds_out.size)\n",
    "    winners = []\n",
    "    \n",
    "    return SpatialPooler(\n",
    "        sds_in, sds_out, rng, perm_threshold, perm_increment, perm_decrement,\n",
    "        weights, synapses, \n",
    "        overlaps, winners\n",
    "    )\n",
    "end\n",
    "\n",
    "function compute_overlaps(sp::SpatialPooler, input_sdr::Vector{Int})::Vector{Int}\n",
    "    overlaps = sum(sp.synapses[input_sdr, :], dims=1)\n",
    "    \n",
    "    # drop summed dim as it was kept\n",
    "    return dropdims(overlaps, dims=1)\n",
    "end\n",
    "\n",
    "function compute_winners(sp::SpatialPooler, potentials::Vector{Float64})::Vector{Int}\n",
    "    winners_unsorted = partialsortperm(sp.potentials, 1:sp.sds_out.active_size, rev=true)\n",
    "    return sort(winners_unsorted)\n",
    "end\n",
    "\n",
    "function update_potentials!(sp::SpatialPooler, potentials::Vector{Float64})\n",
    "    sp.potentials = potentials\n",
    "end\n",
    "\n",
    "function stdp_step!(sp::SpatialPooler, input_sdr::Vector{Int}, winners::Vector{Int})\n",
    "    sp.weights[:, winners] .-= sp.perm_decrement\n",
    "    sp.weights[input_sdr, winners] .+= sp.perm_increment\n",
    "\n",
    "    clamp!(sp.weights[:, winners], 0., 1.)\n",
    "    sp.synapses[:, winners] = sp.weights[:, winners] .>= sp.perm_threshold\n",
    "end\n",
    "\n",
    "function compute!(sp::SpatialPooler, input_sdr::Vector{Int})::Vector{Int}\n",
    "    overlaps = compute_overlaps(sp, input_sdr) * 1.0\n",
    "    update_potentials!(sp, overlaps)\n",
    "    \n",
    "    sp.winners = compute_winners(sp, sp.potentials)\n",
    "    stdp_step!(sp, input_sdr, sp.winners)\n",
    "    \n",
    "    return sp.winners\n",
    "end\n",
    "\n",
    "sp = SpatialPooler(\n",
    "    sds_in = Sds(20, 5), sds_out = Sds(30, 4), seed = 42,\n",
    "    perm_threshold = 0.5, perm_increment = 0.1, perm_decrement = 0.01\n",
    ")\n",
    "input_sdr = rand_sparse(MersenneTwister(1337), sp.sds_in)\n",
    "compute!(sp, input_sdr)"
   ]
  },
  {
   "cell_type": "markdown",
   "id": "9ffe42fc-3e86-428c-ac49-5a37baa51f7e",
   "metadata": {
    "tags": []
   },
   "source": [
    "## Simple performance check"
   ]
  },
  {
   "cell_type": "code",
   "execution_count": 18,
   "id": "9a89ec55-2350-4529-89e5-13ac6025849d",
   "metadata": {},
   "outputs": [
    {
     "data": {
      "text/plain": [
       "40-element Vector{Int64}:\n",
       "   20\n",
       "  186\n",
       "  201\n",
       "  207\n",
       "  220\n",
       "  221\n",
       "  238\n",
       "  253\n",
       "  256\n",
       "  280\n",
       "  342\n",
       "  359\n",
       "  412\n",
       "    ⋮\n",
       " 1246\n",
       " 1282\n",
       " 1354\n",
       " 1372\n",
       " 1408\n",
       " 1430\n",
       " 1563\n",
       " 1601\n",
       " 1644\n",
       " 1715\n",
       " 1739\n",
       " 1751"
      ]
     },
     "execution_count": 18,
     "metadata": {},
     "output_type": "execute_result"
    }
   ],
   "source": [
    "sp = SpatialPooler(\n",
    "    sds_in = Sds(2000, .05), sds_out = Sds(2000, .02), seed = 42,\n",
    "    perm_threshold = 0.5, perm_increment = 0.1, perm_decrement = 0.01\n",
    ")\n",
    "rng = MersenneTwister(1337)\n",
    "input_sdr = rand_sparse(rng, sp.sds_in)\n",
    "compute!(sp, input_sdr)"
   ]
  },
  {
   "cell_type": "code",
   "execution_count": 19,
   "id": "06c2588b-f4d8-4abd-bb14-8b4325d802e9",
   "metadata": {},
   "outputs": [
    {
     "data": {
      "text/plain": [
       "BenchmarkTools.Trial: 4082 samples with 1 evaluation.\n",
       " Range \u001b[90m(\u001b[39m\u001b[36m\u001b[1mmin\u001b[22m\u001b[39m … \u001b[35mmax\u001b[39m\u001b[90m):  \u001b[39m\u001b[36m\u001b[1m997.750 μs\u001b[22m\u001b[39m … \u001b[35m 11.252 ms\u001b[39m  \u001b[90m┊\u001b[39m GC \u001b[90m(\u001b[39mmin … max\u001b[90m): \u001b[39m0.00% … 89.39%\n",
       " Time  \u001b[90m(\u001b[39m\u001b[34m\u001b[1mmedian\u001b[22m\u001b[39m\u001b[90m):     \u001b[39m\u001b[34m\u001b[1m  1.108 ms               \u001b[22m\u001b[39m\u001b[90m┊\u001b[39m GC \u001b[90m(\u001b[39mmedian\u001b[90m):    \u001b[39m0.00%\n",
       " Time  \u001b[90m(\u001b[39m\u001b[32m\u001b[1mmean\u001b[22m\u001b[39m ± \u001b[32mσ\u001b[39m\u001b[90m):   \u001b[39m\u001b[32m\u001b[1m  1.223 ms\u001b[22m\u001b[39m ± \u001b[32m436.132 μs\u001b[39m  \u001b[90m┊\u001b[39m GC \u001b[90m(\u001b[39mmean ± σ\u001b[90m):  \u001b[39m7.06% ± 12.92%\n",
       "\n",
       "  \u001b[39m \u001b[39m▂\u001b[39m█\u001b[34m▆\u001b[39m\u001b[39m▂\u001b[39m \u001b[32m▃\u001b[39m\u001b[39m▃\u001b[39m▄\u001b[39m \u001b[39m \u001b[39m \u001b[39m \u001b[39m \u001b[39m \u001b[39m \u001b[39m \u001b[39m \u001b[39m \u001b[39m \u001b[39m \u001b[39m \u001b[39m \u001b[39m \u001b[39m \u001b[39m \u001b[39m \u001b[39m \u001b[39m \u001b[39m \u001b[39m \u001b[39m \u001b[39m \u001b[39m \u001b[39m \u001b[39m \u001b[39m \u001b[39m \u001b[39m \u001b[39m \u001b[39m \u001b[39m \u001b[39m \u001b[39m \u001b[39m \u001b[39m \u001b[39m \u001b[39m \u001b[39m \u001b[39m \u001b[39m \u001b[39m \u001b[39m \u001b[39m \u001b[39m \u001b[39m \u001b[39m \u001b[39m \u001b[39m \u001b[39m \u001b[39m \u001b[39m \u001b[39m▁\n",
       "  \u001b[39m█\u001b[39m█\u001b[39m█\u001b[34m█\u001b[39m\u001b[39m█\u001b[39m█\u001b[32m█\u001b[39m\u001b[39m█\u001b[39m█\u001b[39m█\u001b[39m▅\u001b[39m▄\u001b[39m█\u001b[39m▆\u001b[39m▁\u001b[39m▁\u001b[39m▁\u001b[39m▁\u001b[39m▁\u001b[39m▁\u001b[39m▁\u001b[39m▁\u001b[39m▁\u001b[39m▁\u001b[39m▁\u001b[39m▁\u001b[39m▁\u001b[39m▁\u001b[39m▁\u001b[39m▃\u001b[39m▁\u001b[39m▃\u001b[39m▁\u001b[39m▃\u001b[39m▁\u001b[39m▃\u001b[39m▃\u001b[39m▃\u001b[39m▁\u001b[39m▅\u001b[39m▆\u001b[39m▆\u001b[39m▇\u001b[39m▆\u001b[39m▇\u001b[39m▆\u001b[39m▆\u001b[39m▅\u001b[39m▄\u001b[39m▁\u001b[39m▆\u001b[39m▅\u001b[39m▄\u001b[39m▅\u001b[39m▆\u001b[39m▁\u001b[39m▅\u001b[39m▅\u001b[39m▆\u001b[39m▅\u001b[39m▆\u001b[39m \u001b[39m█\n",
       "  998 μs\u001b[90m        \u001b[39m\u001b[90mHistogram: \u001b[39m\u001b[90m\u001b[1mlog(\u001b[22m\u001b[39m\u001b[90mfrequency\u001b[39m\u001b[90m\u001b[1m)\u001b[22m\u001b[39m\u001b[90m by time\u001b[39m       3.31 ms \u001b[0m\u001b[1m<\u001b[22m\n",
       "\n",
       " Memory estimate\u001b[90m: \u001b[39m\u001b[33m1.95 MiB\u001b[39m, allocs estimate\u001b[90m: \u001b[39m\u001b[33m24\u001b[39m."
      ]
     },
     "execution_count": 19,
     "metadata": {},
     "output_type": "execute_result"
    }
   ],
   "source": [
    "@benchmark compute!(sp, rand_sparse(rng, sp.sds_in))"
   ]
  }
 ],
 "metadata": {
  "kernelspec": {
   "display_name": "Julia 1.8.0-rc1",
   "language": "julia",
   "name": "julia-1.8"
  },
  "language_info": {
   "file_extension": ".jl",
   "mimetype": "application/julia",
   "name": "julia",
   "version": "1.8.0"
  }
 },
 "nbformat": 4,
 "nbformat_minor": 5
}
